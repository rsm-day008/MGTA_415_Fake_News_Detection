{
 "cells": [
  {
   "cell_type": "markdown",
   "metadata": {},
   "source": [
    "# MGTA_415 Final Project: Fake News Detection\n",
    "\n",
    "* Team member names:\n",
    "    - David Yang\n",
    "    - Jack Chen\n",
    "* GitHub userid: rsm-day008, rsm-yuc172"
   ]
  },
  {
   "cell_type": "markdown",
   "metadata": {},
   "source": [
    "### Load Required Modules And Libraries"
   ]
  },
  {
   "cell_type": "code",
   "execution_count": 52,
   "metadata": {},
   "outputs": [],
   "source": [
    "import numpy as np\n",
    "import pandas as pd\n",
    "import matplotlib.pyplot as plt \n",
    "import seaborn as sns\n",
    "import re\n",
    "import string\n",
    "import time"
   ]
  },
  {
   "cell_type": "code",
   "execution_count": 53,
   "metadata": {},
   "outputs": [],
   "source": [
    "from sklearn.model_selection import train_test_split\n",
    "from sklearn.feature_extraction.text import TfidfVectorizer\n",
    "from sklearn.tree import DecisionTreeClassifier\n",
    "from sklearn.ensemble import RandomForestClassifier\n",
    "from sklearn.svm import SVC\n",
    "from sklearn.neighbors import KNeighborsClassifier\n",
    "from sklearn.ensemble import GradientBoostingClassifier\n",
    "from sklearn.preprocessing import StandardScaler\n",
    "from sklearn.metrics import accuracy_score, classification_report, confusion_matrix, f1_score, matthews_corrcoef, precision_score, recall_score"
   ]
  },
  {
   "cell_type": "code",
   "execution_count": 54,
   "metadata": {},
   "outputs": [
    {
     "data": {
      "text/plain": [
       "'c:\\\\Users\\\\david\\\\Desktop'"
      ]
     },
     "execution_count": 54,
     "metadata": {},
     "output_type": "execute_result"
    }
   ],
   "source": [
    "import os\n",
    "os.getcwd()"
   ]
  },
  {
   "cell_type": "markdown",
   "metadata": {},
   "source": [
    "### Import Data"
   ]
  },
  {
   "cell_type": "code",
   "execution_count": 55,
   "metadata": {},
   "outputs": [
    {
     "name": "stdout",
     "output_type": "stream",
     "text": [
      "Fake news data:  (23481, 4)\n",
      "True news data: (21417, 4)\n",
      "Test set data: (6335, 4)\n"
     ]
    }
   ],
   "source": [
    "abs_path = 'c:/Users/david/Desktop'\n",
    "fake = pd.read_csv(abs_path + \"/Fake.csv\")\n",
    "true = pd.read_csv(abs_path + \"/True.csv\")\n",
    "test_set_fix = pd.read_csv(abs_path + '/test.csv')\n",
    "test_set_fix['label'] = np.where(test_set_fix['label']=='FAKE', 1, 0)\n",
    "print('Fake news data: ',fake.shape)\n",
    "print('True news data:',true.shape)\n",
    "print('Test set data:',test_set_fix.shape)"
   ]
  },
  {
   "cell_type": "code",
   "execution_count": 56,
   "metadata": {},
   "outputs": [
    {
     "data": {
      "text/html": [
       "<div>\n",
       "<style scoped>\n",
       "    .dataframe tbody tr th:only-of-type {\n",
       "        vertical-align: middle;\n",
       "    }\n",
       "\n",
       "    .dataframe tbody tr th {\n",
       "        vertical-align: top;\n",
       "    }\n",
       "\n",
       "    .dataframe thead th {\n",
       "        text-align: right;\n",
       "    }\n",
       "</style>\n",
       "<table border=\"1\" class=\"dataframe\">\n",
       "  <thead>\n",
       "    <tr style=\"text-align: right;\">\n",
       "      <th></th>\n",
       "      <th>title</th>\n",
       "      <th>text</th>\n",
       "      <th>subject</th>\n",
       "      <th>date</th>\n",
       "    </tr>\n",
       "  </thead>\n",
       "  <tbody>\n",
       "    <tr>\n",
       "      <th>0</th>\n",
       "      <td>Donald Trump Sends Out Embarrassing New Year’...</td>\n",
       "      <td>Donald Trump just couldn t wish all Americans ...</td>\n",
       "      <td>News</td>\n",
       "      <td>December 31, 2017</td>\n",
       "    </tr>\n",
       "    <tr>\n",
       "      <th>1</th>\n",
       "      <td>Drunk Bragging Trump Staffer Started Russian ...</td>\n",
       "      <td>House Intelligence Committee Chairman Devin Nu...</td>\n",
       "      <td>News</td>\n",
       "      <td>December 31, 2017</td>\n",
       "    </tr>\n",
       "    <tr>\n",
       "      <th>2</th>\n",
       "      <td>Sheriff David Clarke Becomes An Internet Joke...</td>\n",
       "      <td>On Friday, it was revealed that former Milwauk...</td>\n",
       "      <td>News</td>\n",
       "      <td>December 30, 2017</td>\n",
       "    </tr>\n",
       "    <tr>\n",
       "      <th>3</th>\n",
       "      <td>Trump Is So Obsessed He Even Has Obama’s Name...</td>\n",
       "      <td>On Christmas day, Donald Trump announced that ...</td>\n",
       "      <td>News</td>\n",
       "      <td>December 29, 2017</td>\n",
       "    </tr>\n",
       "    <tr>\n",
       "      <th>4</th>\n",
       "      <td>Pope Francis Just Called Out Donald Trump Dur...</td>\n",
       "      <td>Pope Francis used his annual Christmas Day mes...</td>\n",
       "      <td>News</td>\n",
       "      <td>December 25, 2017</td>\n",
       "    </tr>\n",
       "  </tbody>\n",
       "</table>\n",
       "</div>"
      ],
      "text/plain": [
       "                                               title  \\\n",
       "0   Donald Trump Sends Out Embarrassing New Year’...   \n",
       "1   Drunk Bragging Trump Staffer Started Russian ...   \n",
       "2   Sheriff David Clarke Becomes An Internet Joke...   \n",
       "3   Trump Is So Obsessed He Even Has Obama’s Name...   \n",
       "4   Pope Francis Just Called Out Donald Trump Dur...   \n",
       "\n",
       "                                                text subject  \\\n",
       "0  Donald Trump just couldn t wish all Americans ...    News   \n",
       "1  House Intelligence Committee Chairman Devin Nu...    News   \n",
       "2  On Friday, it was revealed that former Milwauk...    News   \n",
       "3  On Christmas day, Donald Trump announced that ...    News   \n",
       "4  Pope Francis used his annual Christmas Day mes...    News   \n",
       "\n",
       "                date  \n",
       "0  December 31, 2017  \n",
       "1  December 31, 2017  \n",
       "2  December 30, 2017  \n",
       "3  December 29, 2017  \n",
       "4  December 25, 2017  "
      ]
     },
     "execution_count": 56,
     "metadata": {},
     "output_type": "execute_result"
    }
   ],
   "source": [
    "fake.head()"
   ]
  },
  {
   "cell_type": "code",
   "execution_count": 57,
   "metadata": {},
   "outputs": [
    {
     "data": {
      "text/html": [
       "<div>\n",
       "<style scoped>\n",
       "    .dataframe tbody tr th:only-of-type {\n",
       "        vertical-align: middle;\n",
       "    }\n",
       "\n",
       "    .dataframe tbody tr th {\n",
       "        vertical-align: top;\n",
       "    }\n",
       "\n",
       "    .dataframe thead th {\n",
       "        text-align: right;\n",
       "    }\n",
       "</style>\n",
       "<table border=\"1\" class=\"dataframe\">\n",
       "  <thead>\n",
       "    <tr style=\"text-align: right;\">\n",
       "      <th></th>\n",
       "      <th>title</th>\n",
       "      <th>text</th>\n",
       "      <th>subject</th>\n",
       "      <th>date</th>\n",
       "    </tr>\n",
       "  </thead>\n",
       "  <tbody>\n",
       "    <tr>\n",
       "      <th>0</th>\n",
       "      <td>As U.S. budget fight looms, Republicans flip t...</td>\n",
       "      <td>WASHINGTON (Reuters) - The head of a conservat...</td>\n",
       "      <td>politicsNews</td>\n",
       "      <td>December 31, 2017</td>\n",
       "    </tr>\n",
       "    <tr>\n",
       "      <th>1</th>\n",
       "      <td>U.S. military to accept transgender recruits o...</td>\n",
       "      <td>WASHINGTON (Reuters) - Transgender people will...</td>\n",
       "      <td>politicsNews</td>\n",
       "      <td>December 29, 2017</td>\n",
       "    </tr>\n",
       "    <tr>\n",
       "      <th>2</th>\n",
       "      <td>Senior U.S. Republican senator: 'Let Mr. Muell...</td>\n",
       "      <td>WASHINGTON (Reuters) - The special counsel inv...</td>\n",
       "      <td>politicsNews</td>\n",
       "      <td>December 31, 2017</td>\n",
       "    </tr>\n",
       "    <tr>\n",
       "      <th>3</th>\n",
       "      <td>FBI Russia probe helped by Australian diplomat...</td>\n",
       "      <td>WASHINGTON (Reuters) - Trump campaign adviser ...</td>\n",
       "      <td>politicsNews</td>\n",
       "      <td>December 30, 2017</td>\n",
       "    </tr>\n",
       "    <tr>\n",
       "      <th>4</th>\n",
       "      <td>Trump wants Postal Service to charge 'much mor...</td>\n",
       "      <td>SEATTLE/WASHINGTON (Reuters) - President Donal...</td>\n",
       "      <td>politicsNews</td>\n",
       "      <td>December 29, 2017</td>\n",
       "    </tr>\n",
       "  </tbody>\n",
       "</table>\n",
       "</div>"
      ],
      "text/plain": [
       "                                               title  \\\n",
       "0  As U.S. budget fight looms, Republicans flip t...   \n",
       "1  U.S. military to accept transgender recruits o...   \n",
       "2  Senior U.S. Republican senator: 'Let Mr. Muell...   \n",
       "3  FBI Russia probe helped by Australian diplomat...   \n",
       "4  Trump wants Postal Service to charge 'much mor...   \n",
       "\n",
       "                                                text       subject  \\\n",
       "0  WASHINGTON (Reuters) - The head of a conservat...  politicsNews   \n",
       "1  WASHINGTON (Reuters) - Transgender people will...  politicsNews   \n",
       "2  WASHINGTON (Reuters) - The special counsel inv...  politicsNews   \n",
       "3  WASHINGTON (Reuters) - Trump campaign adviser ...  politicsNews   \n",
       "4  SEATTLE/WASHINGTON (Reuters) - President Donal...  politicsNews   \n",
       "\n",
       "                 date  \n",
       "0  December 31, 2017   \n",
       "1  December 29, 2017   \n",
       "2  December 31, 2017   \n",
       "3  December 30, 2017   \n",
       "4  December 29, 2017   "
      ]
     },
     "execution_count": 57,
     "metadata": {},
     "output_type": "execute_result"
    }
   ],
   "source": [
    "true.head()"
   ]
  },
  {
   "cell_type": "code",
   "execution_count": 58,
   "metadata": {},
   "outputs": [
    {
     "data": {
      "text/html": [
       "<div>\n",
       "<style scoped>\n",
       "    .dataframe tbody tr th:only-of-type {\n",
       "        vertical-align: middle;\n",
       "    }\n",
       "\n",
       "    .dataframe tbody tr th {\n",
       "        vertical-align: top;\n",
       "    }\n",
       "\n",
       "    .dataframe thead th {\n",
       "        text-align: right;\n",
       "    }\n",
       "</style>\n",
       "<table border=\"1\" class=\"dataframe\">\n",
       "  <thead>\n",
       "    <tr style=\"text-align: right;\">\n",
       "      <th></th>\n",
       "      <th>Unnamed: 0</th>\n",
       "      <th>title</th>\n",
       "      <th>text</th>\n",
       "      <th>label</th>\n",
       "    </tr>\n",
       "  </thead>\n",
       "  <tbody>\n",
       "    <tr>\n",
       "      <th>0</th>\n",
       "      <td>8476</td>\n",
       "      <td>You Can Smell Hillary’s Fear</td>\n",
       "      <td>Daniel Greenfield, a Shillman Journalism Fello...</td>\n",
       "      <td>1</td>\n",
       "    </tr>\n",
       "    <tr>\n",
       "      <th>1</th>\n",
       "      <td>10294</td>\n",
       "      <td>Watch The Exact Moment Paul Ryan Committed Pol...</td>\n",
       "      <td>Google Pinterest Digg Linkedin Reddit Stumbleu...</td>\n",
       "      <td>1</td>\n",
       "    </tr>\n",
       "    <tr>\n",
       "      <th>2</th>\n",
       "      <td>3608</td>\n",
       "      <td>Kerry to go to Paris in gesture of sympathy</td>\n",
       "      <td>U.S. Secretary of State John F. Kerry said Mon...</td>\n",
       "      <td>0</td>\n",
       "    </tr>\n",
       "    <tr>\n",
       "      <th>3</th>\n",
       "      <td>10142</td>\n",
       "      <td>Bernie supporters on Twitter erupt in anger ag...</td>\n",
       "      <td>— Kaydee King (@KaydeeKing) November 9, 2016 T...</td>\n",
       "      <td>1</td>\n",
       "    </tr>\n",
       "    <tr>\n",
       "      <th>4</th>\n",
       "      <td>875</td>\n",
       "      <td>The Battle of New York: Why This Primary Matters</td>\n",
       "      <td>It's primary day in New York and front-runners...</td>\n",
       "      <td>0</td>\n",
       "    </tr>\n",
       "  </tbody>\n",
       "</table>\n",
       "</div>"
      ],
      "text/plain": [
       "   Unnamed: 0                                              title  \\\n",
       "0        8476                       You Can Smell Hillary’s Fear   \n",
       "1       10294  Watch The Exact Moment Paul Ryan Committed Pol...   \n",
       "2        3608        Kerry to go to Paris in gesture of sympathy   \n",
       "3       10142  Bernie supporters on Twitter erupt in anger ag...   \n",
       "4         875   The Battle of New York: Why This Primary Matters   \n",
       "\n",
       "                                                text  label  \n",
       "0  Daniel Greenfield, a Shillman Journalism Fello...      1  \n",
       "1  Google Pinterest Digg Linkedin Reddit Stumbleu...      1  \n",
       "2  U.S. Secretary of State John F. Kerry said Mon...      0  \n",
       "3  — Kaydee King (@KaydeeKing) November 9, 2016 T...      1  \n",
       "4  It's primary day in New York and front-runners...      0  "
      ]
     },
     "execution_count": 58,
     "metadata": {},
     "output_type": "execute_result"
    }
   ],
   "source": [
    "test_set_fix.head()"
   ]
  },
  {
   "cell_type": "code",
   "execution_count": 59,
   "metadata": {},
   "outputs": [],
   "source": [
    "fake['class'] = 1\n",
    "true['class'] = 0"
   ]
  },
  {
   "cell_type": "code",
   "execution_count": 60,
   "metadata": {},
   "outputs": [],
   "source": [
    "train_set_fix = pd.concat([fake, true], axis=0)\n",
    "train_set_fix.reset_index(inplace=True)\n",
    "train_set_fix.drop([\"index\"], axis=1, inplace=True)\n",
    "test_set_fix.drop(['Unnamed: 0'], axis=1, inplace=True)"
   ]
  },
  {
   "cell_type": "code",
   "execution_count": 61,
   "metadata": {},
   "outputs": [
    {
     "data": {
      "text/plain": [
       "(44898, 5)"
      ]
     },
     "execution_count": 61,
     "metadata": {},
     "output_type": "execute_result"
    }
   ],
   "source": [
    "train_set_fix.shape"
   ]
  },
  {
   "cell_type": "code",
   "execution_count": 62,
   "metadata": {},
   "outputs": [
    {
     "name": "stdout",
     "output_type": "stream",
     "text": [
      "<class 'pandas.core.frame.DataFrame'>\n",
      "RangeIndex: 44898 entries, 0 to 44897\n",
      "Data columns (total 5 columns):\n",
      " #   Column   Non-Null Count  Dtype \n",
      "---  ------   --------------  ----- \n",
      " 0   title    44898 non-null  object\n",
      " 1   text     44898 non-null  object\n",
      " 2   subject  44898 non-null  object\n",
      " 3   date     44898 non-null  object\n",
      " 4   class    44898 non-null  int64 \n",
      "dtypes: int64(1), object(4)\n",
      "memory usage: 1.7+ MB\n"
     ]
    }
   ],
   "source": [
    "train_set_fix.info()"
   ]
  },
  {
   "cell_type": "code",
   "execution_count": 63,
   "metadata": {},
   "outputs": [
    {
     "data": {
      "text/html": [
       "<div>\n",
       "<style scoped>\n",
       "    .dataframe tbody tr th:only-of-type {\n",
       "        vertical-align: middle;\n",
       "    }\n",
       "\n",
       "    .dataframe tbody tr th {\n",
       "        vertical-align: top;\n",
       "    }\n",
       "\n",
       "    .dataframe thead th {\n",
       "        text-align: right;\n",
       "    }\n",
       "</style>\n",
       "<table border=\"1\" class=\"dataframe\">\n",
       "  <thead>\n",
       "    <tr style=\"text-align: right;\">\n",
       "      <th></th>\n",
       "      <th>title</th>\n",
       "      <th>text</th>\n",
       "      <th>subject</th>\n",
       "      <th>date</th>\n",
       "      <th>class</th>\n",
       "    </tr>\n",
       "  </thead>\n",
       "  <tbody>\n",
       "    <tr>\n",
       "      <th>0</th>\n",
       "      <td>Donald Trump Sends Out Embarrassing New Year’...</td>\n",
       "      <td>Donald Trump just couldn t wish all Americans ...</td>\n",
       "      <td>News</td>\n",
       "      <td>December 31, 2017</td>\n",
       "      <td>1</td>\n",
       "    </tr>\n",
       "    <tr>\n",
       "      <th>1</th>\n",
       "      <td>Drunk Bragging Trump Staffer Started Russian ...</td>\n",
       "      <td>House Intelligence Committee Chairman Devin Nu...</td>\n",
       "      <td>News</td>\n",
       "      <td>December 31, 2017</td>\n",
       "      <td>1</td>\n",
       "    </tr>\n",
       "    <tr>\n",
       "      <th>2</th>\n",
       "      <td>Sheriff David Clarke Becomes An Internet Joke...</td>\n",
       "      <td>On Friday, it was revealed that former Milwauk...</td>\n",
       "      <td>News</td>\n",
       "      <td>December 30, 2017</td>\n",
       "      <td>1</td>\n",
       "    </tr>\n",
       "    <tr>\n",
       "      <th>3</th>\n",
       "      <td>Trump Is So Obsessed He Even Has Obama’s Name...</td>\n",
       "      <td>On Christmas day, Donald Trump announced that ...</td>\n",
       "      <td>News</td>\n",
       "      <td>December 29, 2017</td>\n",
       "      <td>1</td>\n",
       "    </tr>\n",
       "    <tr>\n",
       "      <th>4</th>\n",
       "      <td>Pope Francis Just Called Out Donald Trump Dur...</td>\n",
       "      <td>Pope Francis used his annual Christmas Day mes...</td>\n",
       "      <td>News</td>\n",
       "      <td>December 25, 2017</td>\n",
       "      <td>1</td>\n",
       "    </tr>\n",
       "  </tbody>\n",
       "</table>\n",
       "</div>"
      ],
      "text/plain": [
       "                                               title  \\\n",
       "0   Donald Trump Sends Out Embarrassing New Year’...   \n",
       "1   Drunk Bragging Trump Staffer Started Russian ...   \n",
       "2   Sheriff David Clarke Becomes An Internet Joke...   \n",
       "3   Trump Is So Obsessed He Even Has Obama’s Name...   \n",
       "4   Pope Francis Just Called Out Donald Trump Dur...   \n",
       "\n",
       "                                                text subject  \\\n",
       "0  Donald Trump just couldn t wish all Americans ...    News   \n",
       "1  House Intelligence Committee Chairman Devin Nu...    News   \n",
       "2  On Friday, it was revealed that former Milwauk...    News   \n",
       "3  On Christmas day, Donald Trump announced that ...    News   \n",
       "4  Pope Francis used his annual Christmas Day mes...    News   \n",
       "\n",
       "                date  class  \n",
       "0  December 31, 2017      1  \n",
       "1  December 31, 2017      1  \n",
       "2  December 30, 2017      1  \n",
       "3  December 29, 2017      1  \n",
       "4  December 25, 2017      1  "
      ]
     },
     "execution_count": 63,
     "metadata": {},
     "output_type": "execute_result"
    }
   ],
   "source": [
    "train_set_fix.head()"
   ]
  },
  {
   "cell_type": "code",
   "execution_count": 64,
   "metadata": {},
   "outputs": [],
   "source": [
    "# shuffle the dataset\n",
    "train_set_fix = train_set_fix.sample(frac=1, random_state=42)"
   ]
  },
  {
   "cell_type": "markdown",
   "metadata": {},
   "source": [
    "### Exploratory Data Analysis"
   ]
  },
  {
   "cell_type": "code",
   "execution_count": 65,
   "metadata": {},
   "outputs": [
    {
     "data": {
      "text/plain": [
       "0    21417\n",
       "1    23481\n",
       "Name: class, dtype: int64"
      ]
     },
     "execution_count": 65,
     "metadata": {},
     "output_type": "execute_result"
    }
   ],
   "source": [
    "class_counts = train_set_fix['class'].value_counts().sort_index()\n",
    "class_counts"
   ]
  },
  {
   "cell_type": "code",
   "execution_count": 66,
   "metadata": {},
   "outputs": [
    {
     "data": {
      "image/png": "[encoded data removed]",
      "text/plain": [
       "<Figure size 640x480 with 1 Axes>"
      ]
     },
     "metadata": {},
     "output_type": "display_data"
    }
   ],
   "source": [
    "plt.bar(class_counts.index, class_counts.values, color=['#add8e6', '#ffa500'], edgecolor='black', label=['True News', 'Fake News'])\n",
    "\n",
    "plt.legend(labels=['True News', 'Fake News'])\n",
    "plt.xticks([0, 1])\n",
    "plt.xlabel('Class')\n",
    "plt.ylabel('Frequency')\n",
    "plt.title('Histogram of Class Distribution')\n",
    "plt.show()"
   ]
  },
  {
   "cell_type": "code",
   "execution_count": 67,
   "metadata": {},
   "outputs": [
    {
     "data": {
      "text/plain": [
       "Government News     1570\n",
       "Middle-east          778\n",
       "News                9050\n",
       "US_News              783\n",
       "left-news           4459\n",
       "politics            6841\n",
       "politicsNews       11272\n",
       "worldnews          10145\n",
       "Name: subject, dtype: int64"
      ]
     },
     "execution_count": 67,
     "metadata": {},
     "output_type": "execute_result"
    }
   ],
   "source": [
    "subject_counts = train_set_fix['subject'].value_counts().sort_index()\n",
    "subject_counts"
   ]
  },
  {
   "cell_type": "code",
   "execution_count": 68,
   "metadata": {},
   "outputs": [
    {
     "data": {
      "text/plain": [
       "0    10145\n",
       "Name: class, dtype: int64"
      ]
     },
     "execution_count": 68,
     "metadata": {},
     "output_type": "execute_result"
    }
   ],
   "source": [
    "train_set_fix[train_set_fix['subject'] == 'worldnews']['class'].value_counts()"
   ]
  },
  {
   "cell_type": "code",
   "execution_count": 69,
   "metadata": {},
   "outputs": [
    {
     "data": {
      "image/png": "[encoded data removed]",
      "text/plain": [
       "<Figure size 1000x600 with 1 Axes>"
      ]
     },
     "metadata": {},
     "output_type": "display_data"
    }
   ],
   "source": [
    "plt.figure(figsize=(10, 6))\n",
    "sns.countplot(x='subject', hue='class', data=train_set_fix)\n",
    "\n",
    "plt.title('Distribution of True and Fake News by Subject')\n",
    "plt.xlabel('Subject')\n",
    "plt.ylabel('Count')\n",
    "plt.xticks(rotation=45)\n",
    "plt.legend(title='Class', labels=['True News', 'Fake News'])\n",
    "\n",
    "plt.show()"
   ]
  },
  {
   "cell_type": "markdown",
   "metadata": {},
   "source": [
    "We found that only subjects from \"politicsNews\" and \"Worldnews\" are true, while all other subjects are fake. \\\n",
    "Thus, using 'subject' feature to predict will lead to perfect prediction."
   ]
  },
  {
   "cell_type": "markdown",
   "metadata": {},
   "source": [
    "### Data Preprocessing (Result stored in JSON format for repetitive use)"
   ]
  },
  {
   "cell_type": "code",
   "execution_count": 70,
   "metadata": {},
   "outputs": [
    {
     "data": {
      "text/plain": [
       "'\\ntrain_set = train_set_fix.copy()\\ntest_set = test_set_fix.copy()\\n'"
      ]
     },
     "execution_count": 70,
     "metadata": {},
     "output_type": "execute_result"
    }
   ],
   "source": [
    "\"\"\"\n",
    "train_set = train_set_fix.copy()\n",
    "test_set = test_set_fix.copy()\n",
    "\"\"\""
   ]
  },
  {
   "cell_type": "code",
   "execution_count": 71,
   "metadata": {},
   "outputs": [
    {
     "data": {
      "text/plain": [
       "\"\\ndef process_news(text):\\n    text = text.lower()\\n    text = re.sub(r'https?://S+ | www\\\\.\\\\S+', '', text)\\n    text = re.sub(r'\\n', '', text)\\n    text = re.sub('\\\\[.*?\\\\]', '', text)\\n    words=[]\\n    for i in text:\\n        if i not in string.punctuation:\\n            words.append(i)\\n    return ''.join(words)\\n\\ntest_set['text'] = test_set['text'].apply(process_news)\\ntrain_set['text'] = train_set['text'].apply(process_news)\\ntrain_set['text'].head()\\n\""
      ]
     },
     "execution_count": 71,
     "metadata": {},
     "output_type": "execute_result"
    }
   ],
   "source": [
    "\"\"\"\n",
    "def process_news(text):\n",
    "    text = text.lower()\n",
    "    text = re.sub(r'https?://S+ | www\\.\\S+', '', text)\n",
    "    text = re.sub(r'\\n', '', text)\n",
    "    text = re.sub('\\[.*?\\]', '', text)\n",
    "    words=[]\n",
    "    for i in text:\n",
    "        if i not in string.punctuation:\n",
    "            words.append(i)\n",
    "    return ''.join(words)\n",
    "\n",
    "test_set['text'] = test_set['text'].apply(process_news)\n",
    "train_set['text'] = train_set['text'].apply(process_news)\n",
    "train_set['text'].head()\n",
    "\"\"\""
   ]
  },
  {
   "cell_type": "code",
   "execution_count": 72,
   "metadata": {},
   "outputs": [
    {
     "data": {
      "text/plain": [
       "\"\\n# new process without stemming\\nfrom nltk.corpus import stopwords\\nfrom nltk.tokenize import word_tokenize, sent_tokenize\\nfrom nltk.stem import PorterStemmer\\n\\nstop = set(stopwords.words('english'))\\nps = PorterStemmer()\\n\\n# Tokenization + stop words removal \\ndef preprocess_stem_stop(doc, stemming=True, build_sent=False):\\n    tokens = []\\n    sentences = sent_tokenize(doc)\\n    for sent in sentences:\\n        words = word_tokenize(sent)\\n        if build_sent:\\n            tokens.append(words)\\n        else:\\n            tokens += words\\n    return [w for w in tokens if w not in stop]\\n\\ntest_set['text'] = test_set['text'].apply(preprocess_stem_stop)\\ntrain_set['text'] = train_set['text'].apply(preprocess_stem_stop)\\ntrain_set['text'].head()\\n\""
      ]
     },
     "execution_count": 72,
     "metadata": {},
     "output_type": "execute_result"
    }
   ],
   "source": [
    "\"\"\"\n",
    "# new process without stemming\n",
    "from nltk.corpus import stopwords\n",
    "from nltk.tokenize import word_tokenize, sent_tokenize\n",
    "from nltk.stem import PorterStemmer\n",
    "\n",
    "stop = set(stopwords.words('english'))\n",
    "ps = PorterStemmer()\n",
    "\n",
    "# Tokenization + stop words removal \n",
    "def preprocess_stem_stop(doc, stemming=True, build_sent=False):\n",
    "    tokens = []\n",
    "    sentences = sent_tokenize(doc)\n",
    "    for sent in sentences:\n",
    "        words = word_tokenize(sent)\n",
    "        if build_sent:\n",
    "            tokens.append(words)\n",
    "        else:\n",
    "            tokens += words\n",
    "    return [w for w in tokens if w not in stop]\n",
    "\n",
    "test_set['text'] = test_set['text'].apply(preprocess_stem_stop)\n",
    "train_set['text'] = train_set['text'].apply(preprocess_stem_stop)\n",
    "train_set['text'].head()\n",
    "\"\"\""
   ]
  },
  {
   "cell_type": "code",
   "execution_count": 73,
   "metadata": {},
   "outputs": [
    {
     "data": {
      "text/plain": [
       "\"\\ntrain_set.to_json('data/train_set_tokenized.json', orient='records', lines=True)\\ntest_set.to_json('data/test_set_tokenized.json', orient='records', lines=True)\\n\""
      ]
     },
     "execution_count": 73,
     "metadata": {},
     "output_type": "execute_result"
    }
   ],
   "source": [
    "\"\"\"\n",
    "train_set.to_json('data/train_set_tokenized.json', orient='records', lines=True)\n",
    "test_set.to_json('data/test_set_tokenized.json', orient='records', lines=True)\n",
    "\"\"\""
   ]
  },
  {
   "cell_type": "code",
   "execution_count": 74,
   "metadata": {},
   "outputs": [],
   "source": [
    "train_set = pd.read_json(abs_path + '/train_set_tokenized.json', orient='records', lines=True)\n",
    "test_set = pd.read_json(abs_path + '/test_set_tokenized.json', orient='records', lines=True)"
   ]
  },
  {
   "cell_type": "code",
   "execution_count": 75,
   "metadata": {},
   "outputs": [
    {
     "data": {
      "text/html": [
       "<div>\n",
       "<style scoped>\n",
       "    .dataframe tbody tr th:only-of-type {\n",
       "        vertical-align: middle;\n",
       "    }\n",
       "\n",
       "    .dataframe tbody tr th {\n",
       "        vertical-align: top;\n",
       "    }\n",
       "\n",
       "    .dataframe thead th {\n",
       "        text-align: right;\n",
       "    }\n",
       "</style>\n",
       "<table border=\"1\" class=\"dataframe\">\n",
       "  <thead>\n",
       "    <tr style=\"text-align: right;\">\n",
       "      <th></th>\n",
       "      <th>title</th>\n",
       "      <th>text</th>\n",
       "      <th>subject</th>\n",
       "      <th>date</th>\n",
       "      <th>class</th>\n",
       "    </tr>\n",
       "  </thead>\n",
       "  <tbody>\n",
       "    <tr>\n",
       "      <th>0</th>\n",
       "      <td>Ben Stein Calls Out 9th Circuit Court: Committ...</td>\n",
       "      <td>[21st, century, wire, says, ben, stein, reputa...</td>\n",
       "      <td>US_News</td>\n",
       "      <td>February 13, 2017</td>\n",
       "      <td>1</td>\n",
       "    </tr>\n",
       "    <tr>\n",
       "      <th>1</th>\n",
       "      <td>Trump drops Steve Bannon from National Securit...</td>\n",
       "      <td>[washington, reuters, us, president, donald, t...</td>\n",
       "      <td>politicsNews</td>\n",
       "      <td>April 5, 2017</td>\n",
       "      <td>0</td>\n",
       "    </tr>\n",
       "    <tr>\n",
       "      <th>2</th>\n",
       "      <td>Puerto Rico expects U.S. to lift Jones Act shi...</td>\n",
       "      <td>[reuters, puerto, rico, governor, ricardo, ros...</td>\n",
       "      <td>politicsNews</td>\n",
       "      <td>September 27, 2017</td>\n",
       "      <td>0</td>\n",
       "    </tr>\n",
       "    <tr>\n",
       "      <th>3</th>\n",
       "      <td>OOPS: Trump Just Accidentally Confirmed He Le...</td>\n",
       "      <td>[monday, donald, trump, embarrassed, country, ...</td>\n",
       "      <td>News</td>\n",
       "      <td>May 22, 2017</td>\n",
       "      <td>1</td>\n",
       "    </tr>\n",
       "    <tr>\n",
       "      <th>4</th>\n",
       "      <td>Donald Trump heads for Scotland to reopen a go...</td>\n",
       "      <td>[glasgow, scotland, reuters, us, presidential,...</td>\n",
       "      <td>politicsNews</td>\n",
       "      <td>June 24, 2016</td>\n",
       "      <td>0</td>\n",
       "    </tr>\n",
       "    <tr>\n",
       "      <th>...</th>\n",
       "      <td>...</td>\n",
       "      <td>...</td>\n",
       "      <td>...</td>\n",
       "      <td>...</td>\n",
       "      <td>...</td>\n",
       "    </tr>\n",
       "    <tr>\n",
       "      <th>44893</th>\n",
       "      <td>UNREAL! CBS’S TED KOPPEL Tells Sean Hannity He...</td>\n",
       "      <td>[]</td>\n",
       "      <td>politics</td>\n",
       "      <td>Mar 27, 2017</td>\n",
       "      <td>1</td>\n",
       "    </tr>\n",
       "    <tr>\n",
       "      <th>44894</th>\n",
       "      <td>PM May seeks to ease Japan's Brexit fears duri...</td>\n",
       "      <td>[londontokyo, reuters, british, prime, ministe...</td>\n",
       "      <td>worldnews</td>\n",
       "      <td>August 29, 2017</td>\n",
       "      <td>0</td>\n",
       "    </tr>\n",
       "    <tr>\n",
       "      <th>44895</th>\n",
       "      <td>Merkel: Difficult German coalition talks can r...</td>\n",
       "      <td>[berlin, reuters, chancellor, angela, merkel, ...</td>\n",
       "      <td>worldnews</td>\n",
       "      <td>November 16, 2017</td>\n",
       "      <td>0</td>\n",
       "    </tr>\n",
       "    <tr>\n",
       "      <th>44896</th>\n",
       "      <td>Trump Stole An Idea From North Korean Propaga...</td>\n",
       "      <td>[jesus, fcking, christ, president, moron, sati...</td>\n",
       "      <td>News</td>\n",
       "      <td>July 14, 2017</td>\n",
       "      <td>1</td>\n",
       "    </tr>\n",
       "    <tr>\n",
       "      <th>44897</th>\n",
       "      <td>BREAKING: HILLARY CLINTON’S STATE DEPARTMENT G...</td>\n",
       "      <td>[toast, bigger, trouble, thought, much, whole,...</td>\n",
       "      <td>politics</td>\n",
       "      <td>Apr 23, 2015</td>\n",
       "      <td>1</td>\n",
       "    </tr>\n",
       "  </tbody>\n",
       "</table>\n",
       "<p>44898 rows × 5 columns</p>\n",
       "</div>"
      ],
      "text/plain": [
       "                                                   title  \\\n",
       "0      Ben Stein Calls Out 9th Circuit Court: Committ...   \n",
       "1      Trump drops Steve Bannon from National Securit...   \n",
       "2      Puerto Rico expects U.S. to lift Jones Act shi...   \n",
       "3       OOPS: Trump Just Accidentally Confirmed He Le...   \n",
       "4      Donald Trump heads for Scotland to reopen a go...   \n",
       "...                                                  ...   \n",
       "44893  UNREAL! CBS’S TED KOPPEL Tells Sean Hannity He...   \n",
       "44894  PM May seeks to ease Japan's Brexit fears duri...   \n",
       "44895  Merkel: Difficult German coalition talks can r...   \n",
       "44896   Trump Stole An Idea From North Korean Propaga...   \n",
       "44897  BREAKING: HILLARY CLINTON’S STATE DEPARTMENT G...   \n",
       "\n",
       "                                                    text       subject  \\\n",
       "0      [21st, century, wire, says, ben, stein, reputa...       US_News   \n",
       "1      [washington, reuters, us, president, donald, t...  politicsNews   \n",
       "2      [reuters, puerto, rico, governor, ricardo, ros...  politicsNews   \n",
       "3      [monday, donald, trump, embarrassed, country, ...          News   \n",
       "4      [glasgow, scotland, reuters, us, presidential,...  politicsNews   \n",
       "...                                                  ...           ...   \n",
       "44893                                                 []      politics   \n",
       "44894  [londontokyo, reuters, british, prime, ministe...     worldnews   \n",
       "44895  [berlin, reuters, chancellor, angela, merkel, ...     worldnews   \n",
       "44896  [jesus, fcking, christ, president, moron, sati...          News   \n",
       "44897  [toast, bigger, trouble, thought, much, whole,...      politics   \n",
       "\n",
       "                      date  class  \n",
       "0        February 13, 2017      1  \n",
       "1           April 5, 2017       0  \n",
       "2      September 27, 2017       0  \n",
       "3             May 22, 2017      1  \n",
       "4           June 24, 2016       0  \n",
       "...                    ...    ...  \n",
       "44893         Mar 27, 2017      1  \n",
       "44894     August 29, 2017       0  \n",
       "44895   November 16, 2017       0  \n",
       "44896        July 14, 2017      1  \n",
       "44897         Apr 23, 2015      1  \n",
       "\n",
       "[44898 rows x 5 columns]"
      ]
     },
     "execution_count": 75,
     "metadata": {},
     "output_type": "execute_result"
    }
   ],
   "source": [
    "train_set"
   ]
  },
  {
   "cell_type": "code",
   "execution_count": 76,
   "metadata": {},
   "outputs": [
    {
     "data": {
      "text/html": [
       "<div>\n",
       "<style scoped>\n",
       "    .dataframe tbody tr th:only-of-type {\n",
       "        vertical-align: middle;\n",
       "    }\n",
       "\n",
       "    .dataframe tbody tr th {\n",
       "        vertical-align: top;\n",
       "    }\n",
       "\n",
       "    .dataframe thead th {\n",
       "        text-align: right;\n",
       "    }\n",
       "</style>\n",
       "<table border=\"1\" class=\"dataframe\">\n",
       "  <thead>\n",
       "    <tr style=\"text-align: right;\">\n",
       "      <th></th>\n",
       "      <th>title</th>\n",
       "      <th>text</th>\n",
       "      <th>label</th>\n",
       "    </tr>\n",
       "  </thead>\n",
       "  <tbody>\n",
       "    <tr>\n",
       "      <th>0</th>\n",
       "      <td>You Can Smell Hillary’s Fear</td>\n",
       "      <td>[daniel, greenfield, shillman, journalism, fel...</td>\n",
       "      <td>1</td>\n",
       "    </tr>\n",
       "    <tr>\n",
       "      <th>1</th>\n",
       "      <td>Watch The Exact Moment Paul Ryan Committed Pol...</td>\n",
       "      <td>[google, pinterest, digg, linkedin, reddit, st...</td>\n",
       "      <td>1</td>\n",
       "    </tr>\n",
       "    <tr>\n",
       "      <th>2</th>\n",
       "      <td>Kerry to go to Paris in gesture of sympathy</td>\n",
       "      <td>[us, secretary, state, john, f, kerry, said, m...</td>\n",
       "      <td>0</td>\n",
       "    </tr>\n",
       "    <tr>\n",
       "      <th>3</th>\n",
       "      <td>Bernie supporters on Twitter erupt in anger ag...</td>\n",
       "      <td>[—, kaydee, king, kaydeeking, november, 9, 201...</td>\n",
       "      <td>1</td>\n",
       "    </tr>\n",
       "    <tr>\n",
       "      <th>4</th>\n",
       "      <td>The Battle of New York: Why This Primary Matters</td>\n",
       "      <td>[primary, day, new, york, frontrunners, hillar...</td>\n",
       "      <td>0</td>\n",
       "    </tr>\n",
       "    <tr>\n",
       "      <th>...</th>\n",
       "      <td>...</td>\n",
       "      <td>...</td>\n",
       "      <td>...</td>\n",
       "    </tr>\n",
       "    <tr>\n",
       "      <th>6330</th>\n",
       "      <td>State Department says it can't find emails fro...</td>\n",
       "      <td>[state, department, told, republican, national...</td>\n",
       "      <td>0</td>\n",
       "    </tr>\n",
       "    <tr>\n",
       "      <th>6331</th>\n",
       "      <td>The ‘P’ in PBS Should Stand for ‘Plutocratic’ ...</td>\n",
       "      <td>[‘, p, ’, pbs, stand, ‘, plutocratic, ’, ‘, pe...</td>\n",
       "      <td>1</td>\n",
       "    </tr>\n",
       "    <tr>\n",
       "      <th>6332</th>\n",
       "      <td>Anti-Trump Protesters Are Tools of the Oligarc...</td>\n",
       "      <td>[antitrump, protesters, tools, oligarchy, ref...</td>\n",
       "      <td>1</td>\n",
       "    </tr>\n",
       "    <tr>\n",
       "      <th>6333</th>\n",
       "      <td>In Ethiopia, Obama seeks progress on peace, se...</td>\n",
       "      <td>[addis, ababa, ethiopia, —president, obama, co...</td>\n",
       "      <td>0</td>\n",
       "    </tr>\n",
       "    <tr>\n",
       "      <th>6334</th>\n",
       "      <td>Jeb Bush Is Suddenly Attacking Trump. Here's W...</td>\n",
       "      <td>[jeb, bush, suddenly, attacking, trump, heres,...</td>\n",
       "      <td>0</td>\n",
       "    </tr>\n",
       "  </tbody>\n",
       "</table>\n",
       "<p>6335 rows × 3 columns</p>\n",
       "</div>"
      ],
      "text/plain": [
       "                                                  title  \\\n",
       "0                          You Can Smell Hillary’s Fear   \n",
       "1     Watch The Exact Moment Paul Ryan Committed Pol...   \n",
       "2           Kerry to go to Paris in gesture of sympathy   \n",
       "3     Bernie supporters on Twitter erupt in anger ag...   \n",
       "4      The Battle of New York: Why This Primary Matters   \n",
       "...                                                 ...   \n",
       "6330  State Department says it can't find emails fro...   \n",
       "6331  The ‘P’ in PBS Should Stand for ‘Plutocratic’ ...   \n",
       "6332  Anti-Trump Protesters Are Tools of the Oligarc...   \n",
       "6333  In Ethiopia, Obama seeks progress on peace, se...   \n",
       "6334  Jeb Bush Is Suddenly Attacking Trump. Here's W...   \n",
       "\n",
       "                                                   text  label  \n",
       "0     [daniel, greenfield, shillman, journalism, fel...      1  \n",
       "1     [google, pinterest, digg, linkedin, reddit, st...      1  \n",
       "2     [us, secretary, state, john, f, kerry, said, m...      0  \n",
       "3     [—, kaydee, king, kaydeeking, november, 9, 201...      1  \n",
       "4     [primary, day, new, york, frontrunners, hillar...      0  \n",
       "...                                                 ...    ...  \n",
       "6330  [state, department, told, republican, national...      0  \n",
       "6331  [‘, p, ’, pbs, stand, ‘, plutocratic, ’, ‘, pe...      1  \n",
       "6332  [antitrump, protesters, tools, oligarchy, ref...      1  \n",
       "6333  [addis, ababa, ethiopia, —president, obama, co...      0  \n",
       "6334  [jeb, bush, suddenly, attacking, trump, heres,...      0  \n",
       "\n",
       "[6335 rows x 3 columns]"
      ]
     },
     "execution_count": 76,
     "metadata": {},
     "output_type": "execute_result"
    }
   ],
   "source": [
    "test_set"
   ]
  },
  {
   "cell_type": "markdown",
   "metadata": {},
   "source": [
    "### Base ML models (only use 'text' feature)"
   ]
  },
  {
   "cell_type": "code",
   "execution_count": 77,
   "metadata": {},
   "outputs": [],
   "source": [
    "x_train = train_set['text']\n",
    "y_train = train_set['class']\n",
    "x_test = test_set['text']\n",
    "y_test = test_set['label']"
   ]
  },
  {
   "cell_type": "code",
   "execution_count": 78,
   "metadata": {},
   "outputs": [],
   "source": [
    "# New var since stop words ans stemming took time\n",
    "x_train_ = x_train.apply(lambda x: ' '.join(x))\n",
    "x_test_ = x_test.apply(lambda x: ' '.join(x))  # This is for tfidf transformation below, since it only takes string as input. \n"
   ]
  },
  {
   "cell_type": "code",
   "execution_count": 79,
   "metadata": {},
   "outputs": [],
   "source": [
    "vector = TfidfVectorizer()\n",
    "x_train_v = vector.fit_transform(x_train_)\n",
    "x_test_v = vector.transform(x_test_)"
   ]
  },
  {
   "cell_type": "markdown",
   "metadata": {},
   "source": [
    "## `Base Model - TF-IDF + Logistic Regression`"
   ]
  },
  {
   "cell_type": "code",
   "execution_count": 80,
   "metadata": {},
   "outputs": [
    {
     "name": "stdout",
     "output_type": "stream",
     "text": [
      "Accuracy:  0.58689818468824\n",
      "Precision:  0.5514194397443128\n",
      "Recall:  0.9269911504424779\n",
      "F1-Score:  0.6915006483555347\n",
      "AUC:  0.5872735632376376\n"
     ]
    }
   ],
   "source": [
    "# new LR without stemming\n",
    "from sklearn.linear_model import LogisticRegression\n",
    "from sklearn.metrics import roc_auc_score\n",
    "\n",
    "logit = LogisticRegression(max_iter=50)\n",
    "base_model = logit.fit(x_train_v, y_train)\n",
    "\n",
    "predict_base = base_model.predict(x_test_v)\n",
    "\n",
    "print(\"Accuracy: \", accuracy_score(y_test, predict_base))\n",
    "print(\"Precision: \", precision_score(y_test, predict_base))\n",
    "print(\"Recall: \", recall_score(y_test, predict_base))\n",
    "print(\"F1-Score: \", f1_score(y_test, predict_base))\n",
    "print(\"AUC: \", roc_auc_score(y_test, predict_base))"
   ]
  },
  {
   "cell_type": "code",
   "execution_count": 81,
   "metadata": {},
   "outputs": [
    {
     "name": "stdout",
     "output_type": "stream",
     "text": [
      "              precision    recall  f1-score   support\n",
      "\n",
      "           0       0.77      0.25      0.37      3171\n",
      "           1       0.55      0.93      0.69      3164\n",
      "\n",
      "    accuracy                           0.59      6335\n",
      "   macro avg       0.66      0.59      0.53      6335\n",
      "weighted avg       0.66      0.59      0.53      6335\n",
      "\n"
     ]
    }
   ],
   "source": [
    "from sklearn.metrics import classification_report\n",
    "print(classification_report(y_test, predict_base))"
   ]
  },
  {
   "cell_type": "code",
   "execution_count": 82,
   "metadata": {},
   "outputs": [
    {
     "data": {
      "text/plain": [
       "'\\n# old LR\\nfrom sklearn.linear_model import LogisticRegression\\nfrom sklearn.metrics import roc_auc_score\\n\\nlogit = LogisticRegression(max_iter=50)\\nbase_model = logit.fit(x_train_v, y_train)\\n\\npredict_base = base_model.predict(x_test_v)\\n\\nprint(\"Accuracy: \", accuracy_score(y_test, predict_base))\\nprint(\"Precision: \", precision_score(y_test, predict_base))\\nprint(\"Recall: \", recall_score(y_test, predict_base))\\nprint(\"F1-Score: \", f1_score(y_test, predict_base))\\nprint(\"AUC: \", roc_auc_score(y_test, predict_base))\\n'"
      ]
     },
     "execution_count": 82,
     "metadata": {},
     "output_type": "execute_result"
    }
   ],
   "source": [
    "\"\"\"\n",
    "# old LR\n",
    "from sklearn.linear_model import LogisticRegression\n",
    "from sklearn.metrics import roc_auc_score\n",
    "\n",
    "logit = LogisticRegression(max_iter=50)\n",
    "base_model = logit.fit(x_train_v, y_train)\n",
    "\n",
    "predict_base = base_model.predict(x_test_v)\n",
    "\n",
    "print(\"Accuracy: \", accuracy_score(y_test, predict_base))\n",
    "print(\"Precision: \", precision_score(y_test, predict_base))\n",
    "print(\"Recall: \", recall_score(y_test, predict_base))\n",
    "print(\"F1-Score: \", f1_score(y_test, predict_base))\n",
    "print(\"AUC: \", roc_auc_score(y_test, predict_base))\n",
    "\"\"\""
   ]
  },
  {
   "cell_type": "markdown",
   "metadata": {},
   "source": [
    "## `Second Model - Word2Vec + Logistic Regression`"
   ]
  },
  {
   "cell_type": "code",
   "execution_count": 83,
   "metadata": {},
   "outputs": [],
   "source": [
    "import gensim.downloader as api\n",
    "wv = api.load('word2vec-google-news-300')"
   ]
  },
  {
   "cell_type": "code",
   "execution_count": 84,
   "metadata": {},
   "outputs": [],
   "source": [
    "def document_vector(word2vec_model, doc_tokens):\n",
    "    # Remove out-of-vocabulary words\n",
    "    doc_tokens = [token for token in doc_tokens if token in word2vec_model.key_to_index]\n",
    "    if not doc_tokens:\n",
    "        return np.zeros(word2vec_model.vector_size)\n",
    "    # Compute mean of word vectors for the document\n",
    "    return np.mean([word2vec_model[token] for token in doc_tokens], axis=0)"
   ]
  },
  {
   "cell_type": "code",
   "execution_count": 85,
   "metadata": {},
   "outputs": [],
   "source": [
    "train_vectors = np.array([document_vector(wv, tokens) for tokens in train_set['text']])"
   ]
  },
  {
   "cell_type": "code",
   "execution_count": 86,
   "metadata": {},
   "outputs": [],
   "source": [
    "test_vectors = np.array([document_vector(wv, tokens) for tokens in test_set['text']])"
   ]
  },
  {
   "cell_type": "code",
   "execution_count": 87,
   "metadata": {},
   "outputs": [
    {
     "name": "stdout",
     "output_type": "stream",
     "text": [
      "Accuracy:  0.5867403314917127\n",
      "Precision:  0.5553079416531604\n",
      "Recall:  0.8663084702907712\n",
      "F1-Score:  0.6767901234567901\n",
      "AUC:  0.7225592751312563\n"
     ]
    }
   ],
   "source": [
    "classifier = LogisticRegression(max_iter=1000)\n",
    "classifier.fit(train_vectors, train_set['class'])\n",
    "\n",
    "test_predictions = classifier.predict(test_vectors)\n",
    "\n",
    "print(\"Accuracy: \", accuracy_score(test_set['label'], test_predictions))\n",
    "print(\"Precision: \", precision_score(test_set['label'], test_predictions))\n",
    "print(\"Recall: \", recall_score(test_set['label'], test_predictions))\n",
    "print(\"F1-Score: \", f1_score(test_set['label'], test_predictions))\n",
    "print(\"AUC: \", roc_auc_score(test_set['label'], classifier.predict_proba(test_vectors)[:, 1]))"
   ]
  },
  {
   "cell_type": "code",
   "execution_count": 88,
   "metadata": {},
   "outputs": [
    {
     "name": "stdout",
     "output_type": "stream",
     "text": [
      "              precision    recall  f1-score   support\n",
      "\n",
      "           0       0.70      0.31      0.43      3171\n",
      "           1       0.56      0.87      0.68      3164\n",
      "\n",
      "    accuracy                           0.59      6335\n",
      "   macro avg       0.63      0.59      0.55      6335\n",
      "weighted avg       0.63      0.59      0.55      6335\n",
      "\n"
     ]
    }
   ],
   "source": [
    "print(classification_report(test_set['label'], test_predictions))"
   ]
  },
  {
   "cell_type": "markdown",
   "metadata": {},
   "source": [
    "## `Third Model - GloVe + Logistic Regression`"
   ]
  },
  {
   "cell_type": "code",
   "execution_count": null,
   "metadata": {},
   "outputs": [],
   "source": [
    "from gensim.test.utils import datapath, get_tmpfile\n",
    "from gensim.models import KeyedVectors\n",
    "from gensim.scripts.glove2word2vec import glove2word2vec\n",
    "\n",
    "glove_file = 'C:/Users/david/Desktop/glove.6B.100d.txt'\n",
    "tmp_file = get_tmpfile(\"test_word2vec.txt\")\n",
    "\n",
    "_ = glove2word2vec(glove_file, tmp_file)\n",
    "\n",
    "model = KeyedVectors.load_word2vec_format(tmp_file)"
   ]
  },
  {
   "cell_type": "code",
   "execution_count": 94,
   "metadata": {},
   "outputs": [
    {
     "name": "stderr",
     "output_type": "stream",
     "text": [
      "C:\\Users\\david\\AppData\\Local\\Temp\\ipykernel_14584\\3850639838.py:8: DeprecationWarning: Call to deprecated `glove2word2vec` (KeyedVectors.load_word2vec_format(.., binary=False, no_header=True) loads GLoVE text vectors.).\n",
      "  _ = glove2word2vec(glove_file, tmp_file)\n"
     ]
    }
   ],
   "source": [
    "from gensim.test.utils import get_tmpfile\n",
    "from gensim.models import KeyedVectors\n",
    "from gensim.scripts.glove2word2vec import glove2word2vec\n",
    "\n",
    "glove_file = 'C:/Users/david/Desktop/glove.6B.100d.txt'\n",
    "tmp_file = get_tmpfile(\"test_word2vec.txt\")\n",
    "\n",
    "_ = glove2word2vec(glove_file, tmp_file)\n",
    "\n",
    "model = KeyedVectors.load_word2vec_format(tmp_file)"
   ]
  },
  {
   "cell_type": "code",
   "execution_count": 95,
   "metadata": {},
   "outputs": [],
   "source": [
    "def sentence_embedding(sentence, model):\n",
    "    vectors = [model[word] for word in sentence if word in model]\n",
    "    if len(vectors) == 0:\n",
    "        return np.zeros(model.vector_size)\n",
    "    return np.mean(vectors, axis=0)"
   ]
  },
  {
   "cell_type": "code",
   "execution_count": 96,
   "metadata": {},
   "outputs": [],
   "source": [
    "X_train_embeddings_glove = np.array([sentence_embedding(sentence, model) for sentence in train_set['text']])\n",
    "X_test_embeddings_glove = np.array([sentence_embedding(sentence, model) for sentence in test_set['text']])\n",
    "\n",
    "lr_glove = LogisticRegression(max_iter=1000)\n",
    "lr_glove.fit(X_train_embeddings_glove, train_set['class'])\n",
    "\n",
    "y_pred_glove = lr_glove.predict(X_test_embeddings_glove)"
   ]
  },
  {
   "cell_type": "code",
   "execution_count": 97,
   "metadata": {},
   "outputs": [
    {
     "name": "stdout",
     "output_type": "stream",
     "text": [
      "Accuracy:  0.5463299131807419\n",
      "Precision:  0.5362318840579711\n",
      "Recall:  0.6782553729456384\n",
      "F1-Score:  0.5989394362266257\n",
      "AUC:  0.5698743073388295\n"
     ]
    }
   ],
   "source": [
    "print(\"Accuracy: \", accuracy_score(test_set['label'], y_pred_glove))\n",
    "print(\"Precision: \", precision_score(test_set['label'], y_pred_glove))\n",
    "print(\"Recall: \", recall_score(test_set['label'], y_pred_glove))\n",
    "print(\"F1-Score: \", f1_score(test_set['label'], y_pred_glove))\n",
    "print(\"AUC: \", roc_auc_score(test_set['label'], lr_glove.predict_proba(X_test_embeddings_glove)[:, 1]))"
   ]
  },
  {
   "cell_type": "code",
   "execution_count": 98,
   "metadata": {},
   "outputs": [
    {
     "name": "stdout",
     "output_type": "stream",
     "text": [
      "              precision    recall  f1-score   support\n",
      "\n",
      "           0       0.56      0.41      0.48      3171\n",
      "           1       0.54      0.68      0.60      3164\n",
      "\n",
      "    accuracy                           0.55      6335\n",
      "   macro avg       0.55      0.55      0.54      6335\n",
      "weighted avg       0.55      0.55      0.54      6335\n",
      "\n"
     ]
    }
   ],
   "source": [
    "print(classification_report(test_set['label'], y_pred_glove))"
   ]
  },
  {
   "cell_type": "markdown",
   "metadata": {},
   "source": [
    "## `Fourth Model - N-Gram (TF-IDF) + Logistic Regression`"
   ]
  },
  {
   "cell_type": "code",
   "execution_count": 46,
   "metadata": {},
   "outputs": [],
   "source": [
    "# combine a set of n-gram models\n",
    "vectorizer = TfidfVectorizer(ngram_range=(1, 4))\n",
    "X_train_vectors = vectorizer.fit_transform(x_train_)\n",
    "X_test_vectors = vectorizer.transform(x_test_)"
   ]
  },
  {
   "cell_type": "code",
   "execution_count": 47,
   "metadata": {},
   "outputs": [
    {
     "name": "stdout",
     "output_type": "stream",
     "text": [
      "Accuracy:  0.6271507498026835\n",
      "Precision:  0.5895089285714286\n",
      "Recall:  0.8347029077117573\n",
      "F1-Score:  0.6909994767137624\n",
      "AUC:  0.7086385746937818\n"
     ]
    }
   ],
   "source": [
    "classifier = LogisticRegression(max_iter=1000)\n",
    "classifier.fit(X_train_vectors, y_train)\n",
    "\n",
    "predictions = classifier.predict(X_test_vectors)\n",
    "\n",
    "print(\"Accuracy: \", accuracy_score(y_test, predictions))\n",
    "print(\"Precision: \", precision_score(y_test, predictions))\n",
    "print(\"Recall: \", recall_score(y_test, predictions))\n",
    "print(\"F1-Score: \", f1_score(y_test, predictions))\n",
    "print(\"AUC: \", roc_auc_score(y_test, classifier.predict_proba(X_test_vectors)[:, 1]))"
   ]
  },
  {
   "cell_type": "code",
   "execution_count": 48,
   "metadata": {},
   "outputs": [
    {
     "name": "stdout",
     "output_type": "stream",
     "text": [
      "              precision    recall  f1-score   support\n",
      "\n",
      "           0       0.72      0.42      0.53      3171\n",
      "           1       0.59      0.83      0.69      3164\n",
      "\n",
      "    accuracy                           0.63      6335\n",
      "   macro avg       0.65      0.63      0.61      6335\n",
      "weighted avg       0.65      0.63      0.61      6335\n",
      "\n"
     ]
    }
   ],
   "source": [
    "print(classification_report(y_test, predictions))"
   ]
  },
  {
   "cell_type": "markdown",
   "metadata": {},
   "source": [
    "## Since the model performs poorly, re-consider Feature Engineering"
   ]
  },
  {
   "cell_type": "code",
   "execution_count": null,
   "metadata": {},
   "outputs": [],
   "source": [
    "train_set_eng = train_set.copy()\n",
    "test_set_eng = test_set.copy()"
   ]
  },
  {
   "cell_type": "code",
   "execution_count": null,
   "metadata": {},
   "outputs": [],
   "source": [
    "def find_trump(token_list):\n",
    "    return 1 if 'trump' in [token.lower() for token in token_list] else 0\n",
    "\n",
    "def find_obama(token_list):\n",
    "    return 1 if 'obama' in [token.lower() for token in token_list] else 0\n",
    "    \n",
    "def find_election(token_list):\n",
    "    return 1 if 'election' in [token.lower() for token in token_list] else 0\n",
    "\n",
    "train_set_eng['is_trump'] = train_set_eng['text'].apply(find_trump)\n",
    "train_set_eng['is_obama'] = train_set_eng['text'].apply(find_obama)\n",
    "train_set_eng['is_election'] = train_set_eng['text'].apply(find_election)\n",
    "\n",
    "test_set_eng['is_trump'] = test_set_eng['text'].apply(find_trump)\n",
    "test_set_eng['is_obama'] = test_set_eng['text'].apply(find_obama)\n",
    "test_set_eng['is_election'] = test_set_eng['text'].apply(find_election)"
   ]
  },
  {
   "cell_type": "code",
   "execution_count": null,
   "metadata": {},
   "outputs": [],
   "source": [
    "x_train_eng = train_set['text']\n",
    "y_train = train_set['class']\n",
    "x_test_eng = test_set['text']\n",
    "y_test = test_set['label']"
   ]
  },
  {
   "cell_type": "code",
   "execution_count": null,
   "metadata": {},
   "outputs": [],
   "source": [
    "# New var since stop words ans stemming took time\n",
    "x_train_eng = x_train_eng.apply(lambda x: ' '.join(x))\n",
    "x_test_eng = x_test_eng.apply(lambda x: ' '.join(x))  # This is for tfidf transformation below, since it only takes string as input. "
   ]
  },
  {
   "cell_type": "code",
   "execution_count": null,
   "metadata": {},
   "outputs": [],
   "source": [
    "vector = TfidfVectorizer()\n",
    "x_train_eng = vector.fit_transform(x_train_eng)\n",
    "x_test_eng = vector.transform(x_test_eng)"
   ]
  },
  {
   "cell_type": "code",
   "execution_count": null,
   "metadata": {},
   "outputs": [],
   "source": [
    "from scipy.sparse import hstack\n",
    "\n",
    "# Stacking additional features with hstack (sparse matrix necessary)\n",
    "x_train_eng = hstack([x_train_eng, train_set_eng[['is_trump', 'is_obama', 'is_election']]])\n",
    "x_test_eng = hstack([x_test_eng, test_set_eng[['is_trump', 'is_obama', 'is_election']]])"
   ]
  },
  {
   "cell_type": "code",
   "execution_count": null,
   "metadata": {},
   "outputs": [],
   "source": [
    "from sklearn.linear_model import LogisticRegression\n",
    "from sklearn.metrics import roc_auc_score\n",
    "\n",
    "logit = LogisticRegression(max_iter=50)\n",
    "base_model = logit.fit(x_train_eng, y_train)\n",
    "\n",
    "predict_base = base_model.predict(x_test_eng)\n",
    "\n",
    "print(\"Accuracy: \", accuracy_score(y_test, predict_base))\n",
    "print(\"Precision: \", precision_score(y_test, predict_base))\n",
    "print(\"Recall: \", recall_score(y_test, predict_base))\n",
    "print(\"F1-Score: \", f1_score(y_test, predict_base))\n",
    "print(\"AUC: \", roc_auc_score(y_test, predict_base))"
   ]
  },
  {
   "cell_type": "code",
   "execution_count": null,
   "metadata": {},
   "outputs": [],
   "source": [
    "import optuna\n",
    "from sklearn.model_selection import cross_val_score\n",
    "\n",
    "def objective(trial):\n",
    "    # Define the hyperparameter space\n",
    "    penalty = trial.suggest_categorical('penalty', ['l1', 'l2', 'elasticnet', 'none'])\n",
    "    C = trial.suggest_loguniform('C', 1e-4, 1e4)\n",
    "    l1_ratio = None if penalty != 'elasticnet' else trial.suggest_uniform('l1_ratio', 0, 1)\n",
    "\n",
    "    # Create the model with the suggested hyperparameters\n",
    "    model = LogisticRegression(max_iter=50, penalty=penalty, C=C, solver='saga', l1_ratio=l1_ratio)\n",
    "\n",
    "    # Perform cross-validation and return the average AUC score\n",
    "    score = cross_val_score(model, x_train_eng, y_train, scoring='roc_auc', cv=5).mean()\n",
    "    return score\n"
   ]
  },
  {
   "cell_type": "code",
   "execution_count": null,
   "metadata": {},
   "outputs": [],
   "source": [
    "study = optuna.create_study(direction='maximize')\n",
    "study.optimize(objective, n_trials=10)  # Adjust n_trials to your preference\n",
    "\n",
    "# Fetch the best parameters\n",
    "best_params = study.best_params\n",
    "print('Best parameters:', best_params)\n",
    "\n",
    "# Train the model using the best parameters\n",
    "best_model = LogisticRegression(**best_params, max_iter=50).fit(x_train_eng, y_train)\n",
    "\n",
    "# Evaluate the best model\n",
    "predict_best = best_model.predict(x_test_eng)\n",
    "\n",
    "from sklearn.metrics import accuracy_score, precision_score, recall_score, f1_score\n",
    "\n",
    "print(\"Accuracy: \", accuracy_score(y_test, predict_best))\n",
    "print(\"Precision: \", precision_score(y_test, predict_best))\n",
    "print(\"Recall: \", recall_score(y_test, predict_best))\n",
    "print(\"F1-Score: \", f1_score(y_test, predict_best))\n",
    "print(\"AUC: \", roc_auc_score(y_test, predict_best))\n"
   ]
  },
  {
   "cell_type": "code",
   "execution_count": null,
   "metadata": {},
   "outputs": [],
   "source": [
    "rf = RandomForestClassifier()\n",
    "rf_model = rf.fit(x_train_eng, y_train)\n",
    "\n",
    "predict_rf = rf_model.predict(x_test_eng)\n",
    "\n",
    "print(\"Accuracy: \", accuracy_score(y_test, predict_rf))\n",
    "print(\"Precision: \", precision_score(y_test, predict_rf))\n",
    "print(\"Recall: \", recall_score(y_test, predict_rf))\n",
    "print(\"F1-Score: \", f1_score(y_test, predict_rf))\n",
    "print(\"AUC: \", roc_auc_score(y_test, predict_rf))"
   ]
  },
  {
   "cell_type": "code",
   "execution_count": null,
   "metadata": {},
   "outputs": [],
   "source": [
    "from sklearn.linear_model import PassiveAggressiveClassifier\n",
    "\n",
    "pac = PassiveAggressiveClassifier(max_iter=50)\n",
    "pac_model = pac.fit(x_train_eng, y_train)\n",
    "\n",
    "predict_pac = pac_model.predict(x_test_eng)\n",
    "\n",
    "print(\"Accuracy: \", accuracy_score(y_test, predict_pac))\n",
    "print(\"Precision: \", precision_score(y_test, predict_pac))\n",
    "print(\"Recall: \", recall_score(y_test, predict_pac))\n",
    "print(\"F1-Score: \", f1_score(y_test, predict_pac))\n"
   ]
  },
  {
   "cell_type": "code",
   "execution_count": null,
   "metadata": {},
   "outputs": [],
   "source": []
  },
  {
   "cell_type": "code",
   "execution_count": null,
   "metadata": {},
   "outputs": [],
   "source": [
    "# models = {\n",
    "#     # 'Logistic Regression': LogisticRegression(),\n",
    "#     'Decision Tree': DecisionTreeClassifier(),\n",
    "#     # 'Random Forest': RandomForestClassifier(random_state=42),\n",
    "#     # 'Gradient Classifier' : GradientBoostingClassifier(random_state=0)\n",
    "# }"
   ]
  },
  {
   "cell_type": "code",
   "execution_count": null,
   "metadata": {},
   "outputs": [],
   "source": [
    "# for name, model in models.items():\n",
    "#     start = time.time()\n",
    "#     model.fit(xtrain, ytrain)\n",
    "#     predict = model.predict(xtest)\n",
    "    \n",
    "#     LABELS = ['False', 'True']\n",
    "#     conf_matrix = confusion_matrix(ytest, predict)\n",
    "#     plt.figure(figsize =(6,5))\n",
    "#     sns.heatmap(conf_matrix, xticklabels = LABELS, yticklabels = LABELS, vmax = 100, annot = True, fmt =\"d\");\n",
    "#     plt.title(f'{name}')\n",
    "#     plt.ylabel('True class')\n",
    "#     plt.xlabel('Predicted class')\n",
    "#     plt.show()\n",
    "#     print(\"Accuracy: \", accuracy_score(ytest, predict))\n",
    "#     print(\"Precision: \", precision_score(ytest, predict))\n",
    "#     print(\"Recall: \", recall_score(ytest, predict))\n",
    "#     print(\"F1-Score: \", f1_score(ytest, predict))\n",
    "#     print(\"Matthews correlation coefficient: \", matthews_corrcoef(ytest, predict))\n",
    "#     end = time.time()\n",
    "#     print(\"Time taken(in sec): \",round(end-start, 2))\n",
    "#     print('-' * 70, '\\n')"
   ]
  }
 ],
 "metadata": {
  "kernelspec": {
   "display_name": "base",
   "language": "python",
   "name": "python3"
  },
  "language_info": {
   "codemirror_mode": {
    "name": "ipython",
    "version": 3
   },
   "file_extension": ".py",
   "mimetype": "text/x-python",
   "name": "python",
   "nbconvert_exporter": "python",
   "pygments_lexer": "ipython3",
   "version": "3.9.7"
  }
 },
 "nbformat": 4,
 "nbformat_minor": 2
}
